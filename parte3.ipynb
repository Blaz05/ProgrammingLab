{
 "cells": [
  {
   "cell_type": "code",
   "execution_count": 12,
   "id": "4a65f57e",
   "metadata": {},
   "outputs": [
    {
     "name": "stdout",
     "output_type": "stream",
     "text": [
      "11253.599999999999\n"
     ]
    }
   ],
   "source": [
    "# Scrivete una funzione sum_csv(file_name) che sommi tutti i valori delle vendite degli shampoo del \n",
    "# file passato come argomento. Provatelo sul file “shampoo_sales.csv”\n",
    "\n",
    "with open( 'shampoo_sales.csv' , 'r' ) as mio_file: \n",
    "    sum = 0\n",
    "    for linea in mio_file:\n",
    "        elementi = linea.split(',') # Faccio lo split di ogni riga sulla virgola\n",
    "        if elementi[0] != 'Date':\n",
    "            valore = float(elementi[1])\n",
    "            sum += valore\n",
    "    print(sum)"
   ]
  },
  {
   "cell_type": "code",
   "execution_count": null,
   "id": "9f011a17",
   "metadata": {},
   "outputs": [],
   "source": [
    "# Definire una funzione che prende in input un file ed una parola e conta quante volte\n",
    "# quella parola è presente sul file\n",
    "\n",
    "def funz(file, parola):\n",
    "    sum = 0\n",
    "    parola = parola.lower()\n",
    "    \n",
    "    testo = open(file, \"r\") # apro il file\n",
    "    contenuto = testo.read() # leggo il file\n",
    "    testo.close() # chiudo il file\n",
    "    parole = contenuto.split()\n",
    "    for p in parole:\n",
    "        p = p.lower()\n",
    "        if p == parola:\n",
    "            sum+=1     \n",
    "    return sum"
   ]
  },
  {
   "cell_type": "code",
   "execution_count": null,
   "id": "31661120",
   "metadata": {},
   "outputs": [],
   "source": [
    "# Definire una funzione che prende come input un file e conta quante volte ogni parola è presente\n",
    "\n",
    "def funz(file):\n",
    "    dizionario = {}\n",
    "    with open(file, 'r') as testo:\n",
    "        contenuto = testo.read()\n",
    "    parole = contenuto.split( )\n",
    "    for parola in parole:\n",
    "        parola = parola.lower()\n",
    "        if(parola not in dizionario.keys()):\n",
    "            dizionario[parola] = 1\n",
    "        else: dizionario[parola] += 1\n",
    "    return dizionario\n"
   ]
  },
  {
   "cell_type": "code",
   "execution_count": null,
   "id": "ee6e46b2",
   "metadata": {},
   "outputs": [],
   "source": [
    "#  Definire una funzione che prende in input un file e costruisce un dizionario con chiavi la\n",
    "# lettere iniziali e con valore le parole di lunghezza maggiore contenute nel file che iniziano con quelle lettere.\n",
    "\n",
    "def funz(file):\n",
    "    dizionario = {}\n",
    "    with open(file, 'r') as testo:\n",
    "        contenuto = testo.read()\n",
    "    parole = contenuto.split( )\n",
    "    for parola in parole:\n",
    "        parola = parola.lower()\n",
    "        if(parola[0] not in dizionario.keys()):\n",
    "            dizionario[parola[0]] = len(parola)\n",
    "        elif(dizionario[parola[0]] < len(parola)):\n",
    "            dizionario[parola[0]] = parola\n",
    "    return dizionario"
   ]
  },
  {
   "cell_type": "code",
   "execution_count": 49,
   "id": "7dc36b95",
   "metadata": {},
   "outputs": [
    {
     "data": {
      "text/plain": [
       "{'international': 1, 'a': 1, 'the': 2}"
      ]
     },
     "execution_count": 49,
     "metadata": {},
     "output_type": "execute_result"
    }
   ],
   "source": [
    "# Definire una funzione conteggio che prende come input un file e ritorna un dizionario\n",
    "# con chiave la prima parola di ogni frase e valore il numero di volte che una frase inizia\n",
    "# con quella parola. Considerare come inizio di frase qualsiasi parola che segue un\n",
    "# punto, un punto esclamativo, un punto interrogativo o si trova all'inizio del testo.\n",
    "\n",
    "def conteggio(file):\n",
    "    diz = {}\n",
    "    with open(file, 'r') as testo:\n",
    "        contenuto = testo.read()\n",
    "    contenuto = contenuto.lower()\n",
    "    contenuto = contenuto.replace('?', '.').replace('!', '.')\n",
    "    frasi = contenuto.split('.')\n",
    "    for f in frasi:\n",
    "        f = f.strip()  # rimuove spazi iniziali/finali\n",
    "        if f:  # evita stringhe vuote\n",
    "            parola_inziale = f.split()[0]\n",
    "            if(parola_inziale not in diz.keys()):\n",
    "                diz[parola_inziale] = 1\n",
    "            else:\n",
    "                diz[parola_inziale] += 1\n",
    "    return diz\n",
    "conteggio('file.txt')  "
   ]
  },
  {
   "cell_type": "code",
   "execution_count": null,
   "id": "58bf4db7",
   "metadata": {},
   "outputs": [],
   "source": [
    "# Definire una funzione legge ch prende come input un file, rimuove tutte le righe duplicate,\n",
    "# scrive il risultato in un nuovo file chiamato unique.txt\n",
    "\n",
    "def legge(file):\n",
    "    with open(file, 'r') as testo:\n",
    "        lista_righe = testo.readlines()\n",
    "    righe = []\n",
    "    for riga in lista_righe:\n",
    "        if riga not in righe:\n",
    "            righe.append(riga)\n",
    "    with open('unique.txt', 'w') as unico:\n",
    "        for riga in righe:\n",
    "            unico.write(riga)"
   ]
  }
 ],
 "metadata": {
  "kernelspec": {
   "display_name": "base",
   "language": "python",
   "name": "python3"
  },
  "language_info": {
   "codemirror_mode": {
    "name": "ipython",
    "version": 3
   },
   "file_extension": ".py",
   "mimetype": "text/x-python",
   "name": "python",
   "nbconvert_exporter": "python",
   "pygments_lexer": "ipython3",
   "version": "3.12.9"
  }
 },
 "nbformat": 4,
 "nbformat_minor": 5
}
