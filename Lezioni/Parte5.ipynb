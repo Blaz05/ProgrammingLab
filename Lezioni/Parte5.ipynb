{
 "cells": [
  {
   "cell_type": "code",
   "execution_count": 5,
   "id": "87a6301c",
   "metadata": {},
   "outputs": [
    {
     "name": "stdout",
     "output_type": "stream",
     "text": [
      "Non posso convertire \"Ciao\" in float.\n",
      "L'errore è 'could not convert string to float: 'Ciao''\n"
     ]
    }
   ],
   "source": [
    "var = 'Ciao'\n",
    "try:\n",
    "    float(var)\n",
    "except:\n",
    "    print('Non posso convertire \"{}\" in float.'.format(var))\n",
    "\n",
    "try:\n",
    "    float(var)\n",
    "except Exception as eccezz:\n",
    "    print(\"L'errore è '{}'\".format(eccezz))"
   ]
  },
  {
   "cell_type": "markdown",
   "id": "7ebc3bf3",
   "metadata": {},
   "source": [
    "# Esercizi"
   ]
  },
  {
   "cell_type": "code",
   "execution_count": 44,
   "id": "a9158051",
   "metadata": {},
   "outputs": [
    {
     "name": "stdout",
     "output_type": "stream",
     "text": [
      "[['01-01-2012', '266.0'], ['01-02-2012', '145.9'], ['01-03-2012', '183.1'], ['01-04-2012', '119.3'], ['01-05-2012', '180.3'], ['01-06-2012', '168.5'], ['01-07-2012', '231.8'], ['01-08-2012', '224.5'], ['01-09-2012', '192.8'], ['01-10-2012', '122.9'], ['01-11-2012', '336.5'], ['01-12-2012', '185.9'], ['01-01-2013', '194.3'], ['01-02-2013', '149.5'], ['01-03-2013', '210.1'], ['01-04-2013', '273.3'], ['01-05-2013', '191.4'], ['01-06-2013', '287.0'], ['01-07-2013', '226.0'], ['01-08-2013', '303.6'], ['01-09-2013', '289.9'], ['01-10-2013', '421.6'], ['01-11-2013', '264.5'], ['01-12-2013', '342.3'], ['01-01-2014', '339.7'], ['01-02-2014', '440.4'], ['01-03-2014', '315.9'], ['01-04-2014', '439.3'], ['01-05-2014', '401.3'], ['01-06-2014', '437.4'], ['01-07-2014', '575.5'], ['01-08-2014', '407.6'], ['01-09-2014', '682.0'], ['01-10-2014', '475.3'], ['01-11-2014', '581.3'], ['01-12-2014', '646.9'], ['01-01-2015', ''], ['01-02-2015', ' ciao']]\n",
      "Errore: could not convert string to float: ''\n",
      "Errore: could not convert string to float: ' ciao'\n",
      "[['01-01-2012', 266.0], ['01-02-2012', 145.9], ['01-03-2012', 183.1], ['01-04-2012', 119.3], ['01-05-2012', 180.3], ['01-06-2012', 168.5], ['01-07-2012', 231.8], ['01-08-2012', 224.5], ['01-09-2012', 192.8], ['01-10-2012', 122.9], ['01-11-2012', 336.5], ['01-12-2012', 185.9], ['01-01-2013', 194.3], ['01-02-2013', 149.5], ['01-03-2013', 210.1], ['01-04-2013', 273.3], ['01-05-2013', 191.4], ['01-06-2013', 287.0], ['01-07-2013', 226.0], ['01-08-2013', 303.6], ['01-09-2013', 289.9], ['01-10-2013', 421.6], ['01-11-2013', 264.5], ['01-12-2013', 342.3], ['01-01-2014', 339.7], ['01-02-2014', 440.4], ['01-03-2014', 315.9], ['01-04-2014', 439.3], ['01-05-2014', 401.3], ['01-06-2014', 437.4], ['01-07-2014', 575.5], ['01-08-2014', 407.6], ['01-09-2014', 682.0], ['01-10-2014', 475.3], ['01-11-2014', 581.3], ['01-12-2014', 646.9]]\n"
     ]
    }
   ],
   "source": [
    "class CSVFile:\n",
    "    def __init__(self, nome):\n",
    "        self.nome = nome\n",
    "    def get_data(self):\n",
    "        try:\n",
    "            with open(self.nome, 'r') as testo:\n",
    "                contenuto=testo.readlines()\n",
    "        except Exception as e:\n",
    "            print('Errore: {}'.format(e))\n",
    "        \n",
    "        lista = []\n",
    "        for i, linea in enumerate(contenuto):\n",
    "            if(i != 0):\n",
    "                valori = linea.strip().split(',')\n",
    "                lista.append(valori)\n",
    "        return lista\n",
    "\n",
    "dati = CSVFile('shampoo_sales.csv').get_data()\n",
    "print(dati)\n",
    "\n",
    "class NumericalCSVFile(CSVFile):\n",
    "    def __init__(self, nome):\n",
    "        super().__init__(nome)\n",
    "    def get_data(self):\n",
    "        dati = super().get_data()\n",
    "        nuova_lista = []\n",
    "        for lista in dati:\n",
    "            try:\n",
    "                numero = float(lista[1])\n",
    "                tmp = [lista[0], numero]\n",
    "                nuova_lista.append(tmp)\n",
    "            except Exception as e:\n",
    "                print('Errore: {}'.format(e))\n",
    "                continue\n",
    "        return nuova_lista\n",
    "            \n",
    "\n",
    "dati = NumericalCSVFile('shampoo_sales.csv').get_data()\n",
    "print(dati)"
   ]
  }
 ],
 "metadata": {
  "kernelspec": {
   "display_name": "base",
   "language": "python",
   "name": "python3"
  },
  "language_info": {
   "codemirror_mode": {
    "name": "ipython",
    "version": 3
   },
   "file_extension": ".py",
   "mimetype": "text/x-python",
   "name": "python",
   "nbconvert_exporter": "python",
   "pygments_lexer": "ipython3",
   "version": "3.12.9"
  }
 },
 "nbformat": 4,
 "nbformat_minor": 5
}
