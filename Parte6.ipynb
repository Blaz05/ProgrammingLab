{
 "cells": [
  {
   "cell_type": "code",
   "execution_count": 7,
   "id": "78bc75c5",
   "metadata": {},
   "outputs": [
    {
     "name": "stdout",
     "output_type": "stream",
     "text": [
      "[['01-01-2012', '266.0'], ['01-02-2012', '145.9'], ['01-03-2012', '183.1'], ['01-04-2012', '119.3'], ['01-05-2012', '180.3'], ['01-06-2012', '168.5'], ['01-07-2012', '231.8']]\n",
      "Errore: could not convert string to float: ''\n",
      "Errore: could not convert string to float: ' ciao'\n",
      "[['01-01-2012', 266.0], ['01-02-2012', 145.9], ['01-03-2012', 183.1], ['01-04-2012', 119.3], ['01-05-2012', 180.3], ['01-06-2012', 168.5], ['01-07-2012', 231.8], ['01-08-2012', 224.5], ['01-09-2012', 192.8], ['01-10-2012', 122.9], ['01-11-2012', 336.5], ['01-12-2012', 185.9], ['01-01-2013', 194.3], ['01-02-2013', 149.5], ['01-03-2013', 210.1], ['01-04-2013', 273.3], ['01-05-2013', 191.4], ['01-06-2013', 287.0], ['01-07-2013', 226.0], ['01-08-2013', 303.6], ['01-09-2013', 289.9], ['01-10-2013', 421.6], ['01-11-2013', 264.5], ['01-12-2013', 342.3], ['01-01-2014', 339.7], ['01-02-2014', 440.4], ['01-03-2014', 315.9], ['01-04-2014', 439.3], ['01-05-2014', 401.3], ['01-06-2014', 437.4], ['01-07-2014', 575.5], ['01-08-2014', 407.6], ['01-09-2014', 682.0], ['01-10-2014', 475.3], ['01-11-2014', 581.3], ['01-12-2014', 646.9]]\n"
     ]
    }
   ],
   "source": [
    "class CSVFile:\n",
    "    def __init__(self, nome):\n",
    "        if not isinstance(nome, str):\n",
    "            raise TypeError('Il nome deve essere una stringa')\n",
    "        self.nome = nome\n",
    "    def get_data(self, start=None, end=None):\n",
    "        if(start != None and end != None):\n",
    "            if not isinstance(start, int):\n",
    "                raise TypeError(\"L'inizio deve essere un numero intero\")\n",
    "            if not isinstance(end, int):\n",
    "                raise TypeError(\"L'inizio deve essere un numero intero\")\n",
    "            if not (start <= end):\n",
    "                raise ValueError(\"L'indice della frase iniziale non può essere maggiore dell'indice della frase finale\")\n",
    "        try:\n",
    "            with open(self.nome, 'r') as testo:\n",
    "                contenuto=testo.readlines()\n",
    "        except Exception as e:\n",
    "            print('Errore: {}'.format(e))\n",
    "        \n",
    "        lista = []\n",
    "        \n",
    "        if(start != None and end != None):\n",
    "            for i, linea in enumerate(contenuto):\n",
    "                if(i >= start and i <= end):\n",
    "                    valori = linea.strip().split(',')\n",
    "                    lista.append(valori)\n",
    "        else:\n",
    "            for i, linea in enumerate(contenuto):\n",
    "                if(i != 0):\n",
    "                    valori = linea.strip().split(',')\n",
    "                    lista.append(valori)\n",
    "        return lista\n",
    "\n",
    "dati = CSVFile('shampoo_sales.csv').get_data(1, 7)\n",
    "print(dati)\n",
    "\n",
    "class NumericalCSVFile(CSVFile):\n",
    "    def __init__(self, nome):\n",
    "        super().__init__(nome)\n",
    "    def get_data(self, *args, **kwargs):\n",
    "        dati = super().get_data(*args, **kwargs)\n",
    "        nuova_lista = []\n",
    "        for lista in dati:\n",
    "            try:\n",
    "                numero = float(lista[1])\n",
    "                tmp = [lista[0], numero]\n",
    "                nuova_lista.append(tmp)\n",
    "            except Exception as e:\n",
    "                print('Errore: {}'.format(e))\n",
    "                continue\n",
    "        return nuova_lista\n",
    "            \n",
    "\n",
    "dati = NumericalCSVFile('shampoo_sales.csv').get_data()\n",
    "print(dati)"
   ]
  },
  {
   "cell_type": "markdown",
   "id": "11541067",
   "metadata": {},
   "source": [
    "# Altri Esercizi su gestione dell'input"
   ]
  },
  {
   "cell_type": "code",
   "execution_count": null,
   "id": "93886a87",
   "metadata": {},
   "outputs": [
    {
     "name": "stdout",
     "output_type": "stream",
     "text": [
      "Data di nascita: 01/06/1972\n",
      "Età: 53\n",
      "Fino al prossimo compleanno: 319 days, 8:41:53.962317\n"
     ]
    }
   ],
   "source": [
    "# Scrivete un programma che riceva una data di nascita come input e visualizzi l’età \n",
    "# dell’utente e il numero di giorni, ore, minuti e secondi che mancano al prossimo compleanno.\n",
    "\n",
    "import datetime\n",
    "\n",
    "giorno = input('Inserisci il giorno di nascita: ').strip()\n",
    "mese = input('Inserisci il mese di nascita: ').strip()\n",
    "anno = input(\"Inserisci l'anno di nascita: \").strip()\n",
    "print(\"Data di nascita: {}/{}/{}\".format(giorno, mese, anno))\n",
    "try:\n",
    "    giorno = int(giorno)\n",
    "    mese = int(mese)\n",
    "    anno = int(anno)\n",
    "except Exception as e:\n",
    "    print(\"Inserire numeri interi. Errore: {}\".format(e))\n",
    "else:    \n",
    "    if(0 < giorno <= 31 and 0 < mese <= 12 and 1900 < anno <= 2024):\n",
    "        now = datetime.datetime.now()\n",
    "        if(datetime.datetime(2025, mese, giorno, 0,0,0) > now):\n",
    "            età = 2024 - anno\n",
    "            print(\"Età: {}\".format(età))\n",
    "            compleanno = datetime.datetime(2025, mese, giorno, 0,0,0)\n",
    "            differenza = compleanno - now\n",
    "        else:\n",
    "            età = 2025 - anno\n",
    "            print(\"Età: {}\".format(età))\n",
    "            compleanno = datetime.datetime(2026, mese, giorno, 0,0,0)\n",
    "            differenza = compleanno - now\n",
    "        print(\"Fino al prossimo compleanno: {}\".format(differenza))\n",
    "    else:\n",
    "        raise ValueError(\"Inserire valori reali.\")"
   ]
  },
  {
   "cell_type": "code",
   "execution_count": null,
   "id": "7833fa9f",
   "metadata": {},
   "outputs": [
    {
     "name": "stdout",
     "output_type": "stream",
     "text": [
      "99 al quadrato è 9801\n"
     ]
    }
   ],
   "source": [
    "# Scrivete un programma che chieda all'utente di inserire un numero intero. Se l'utente inserisce un valore valido, il\n",
    "# programma deve stampare il quadrato del numero. Se l'utente inserisce un valore non valido, il programma deve\n",
    "# visualizzare un messaggio di errore e richiedere nuovamente l'input.\n",
    "\n",
    "num = input(\"Inserire un numero intero: \")\n",
    "while(num != 'quit'):\n",
    "    try:\n",
    "        num = int(num)\n",
    "        print(\"{} al quadrato è {}\".format(num, num**2))\n",
    "        break\n",
    "    except:\n",
    "        num = input(\"Inserire un numero valido ('quit' per uscire): \")"
   ]
  },
  {
   "cell_type": "code",
   "execution_count": null,
   "id": "a0915734",
   "metadata": {},
   "outputs": [
    {
     "name": "stdout",
     "output_type": "stream",
     "text": [
      "57\n"
     ]
    }
   ],
   "source": [
    "# Create un programma che mostri un menù all'utente con tre opzioni:\n",
    "    # 1. Calcolare la somma di due numeri.\n",
    "    # 2. Calcolare la differenza tra due numeri.\n",
    "    # 3. Uscire.\n",
    "# Il programma deve:\n",
    "    # 1. Chiedere all'utente di scegliere un'opzione (1, 2 o 3).\n",
    "    # 2. Eseguire l'operazione corrispondente se l'input è valido.\n",
    "    # 3. Gestire input non validi mostrando un messaggio di errore.\n",
    "    # 4. Continuare a mostrare il menù fino a quando l'utente sceglie di uscire (opzione 3).\n",
    "\n",
    "num = None\n",
    "while(num != '3'):\n",
    "    num = input(\"\\n\\n1 = calcolo la somma di due numeri\\n2 = calcolo la differenza tra due numeri\\n3 = uscire\\n\"\\\n",
    "            \"Scegliere un'opzione: \")\n",
    "    try:\n",
    "        num = int(num)\n",
    "        if num > 3:\n",
    "            raise ValueError\n",
    "        if(num == 1):\n",
    "            a = input(\"Inserire il primo numero: \"); b = input(\"Inserire il secondo numero: \")\n",
    "            try:\n",
    "                a = float(a); b = float(b)\n",
    "                c = a+b\n",
    "                print(\"Somma: {}\".format(c))\n",
    "                exit\n",
    "            except:\n",
    "                print(\"Inserisci numeri reali.\")\n",
    "        if(num == 2):\n",
    "            a = input(\"Inserire il primo numero: \"); b = input(\"Inserire il secondo numero: \")\n",
    "            try:\n",
    "                a = float(a); b = float(b)\n",
    "                c = a-b\n",
    "                print(\"Differenza: {}\".format(c))\n",
    "            except:\n",
    "                print(\"Inserisci numeri reali.\")\n",
    "        if(num == 3): break\n",
    "    except:\n",
    "        print(\"\\n\\nInserisci un numero valido ('3' per uscire)\\n\\n\")"
   ]
  }
 ],
 "metadata": {
  "kernelspec": {
   "display_name": "base",
   "language": "python",
   "name": "python3"
  },
  "language_info": {
   "codemirror_mode": {
    "name": "ipython",
    "version": 3
   },
   "file_extension": ".py",
   "mimetype": "text/x-python",
   "name": "python",
   "nbconvert_exporter": "python",
   "pygments_lexer": "ipython3",
   "version": "3.12.9"
  }
 },
 "nbformat": 4,
 "nbformat_minor": 5
}
