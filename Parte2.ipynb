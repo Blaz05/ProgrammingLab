{
 "cells": [
  {
   "cell_type": "markdown",
   "id": "30059ec9",
   "metadata": {},
   "source": [
    "# Parte 1"
   ]
  },
  {
   "cell_type": "code",
   "execution_count": null,
   "id": "83445faf",
   "metadata": {},
   "outputs": [
    {
     "name": "stdout",
     "output_type": "stream",
     "text": [
      "L'equivalente di 538 minuti è 8 ore e 58 minuti\n"
     ]
    }
   ],
   "source": [
    "# Stampare l'equivalente di 538 minuti nel formato 12h:32min\n",
    "min = 538\n",
    "ore = 538 // 60\n",
    "minuti = 538 % 60\n",
    "print(\"L'equivalente di {} minuti è {} ore e {} minuti.\".format(min, ore, minuti))"
   ]
  },
  {
   "cell_type": "code",
   "execution_count": 10,
   "id": "6d8a482b",
   "metadata": {},
   "outputs": [
    {
     "name": "stdout",
     "output_type": "stream",
     "text": [
      "7\n"
     ]
    }
   ],
   "source": [
    "# Definire una funzione che prende come argomento una parola e una lettera. Ritorna quante volte\n",
    "# quella lettera è contenuta nella parola.\n",
    "\n",
    "def funz(parola, lettera):\n",
    "    somma = 0\n",
    "    for carattere in parola:\n",
    "        if(carattere == lettera):\n",
    "            somma += 1\n",
    "    return somma\n",
    "\n",
    "print(funz(\"tittitititi ti moja rozica\", \"t\"))"
   ]
  },
  {
   "cell_type": "code",
   "execution_count": 18,
   "id": "b4445711",
   "metadata": {},
   "outputs": [
    {
     "data": {
      "text/plain": [
       "True"
      ]
     },
     "execution_count": 18,
     "metadata": {},
     "output_type": "execute_result"
    }
   ],
   "source": [
    "# Scrivere una funzione che prende in input una stringa e ritorna True se è un palindromo, False altrimenti.\n",
    "\n",
    "def funz(stringa):\n",
    "    i = len(stringa)\n",
    "    for lettera in stringa:\n",
    "        if(lettera != stringa[i-1]):\n",
    "            return False\n",
    "        i -= 1\n",
    "    return True\n",
    "\n",
    "funz(\"orro\")"
   ]
  },
  {
   "cell_type": "code",
   "execution_count": 24,
   "id": "ed630560",
   "metadata": {},
   "outputs": [
    {
     "name": "stdout",
     "output_type": "stream",
     "text": [
      "Triangolo isoscele\n"
     ]
    }
   ],
   "source": [
    "# Definire una funzione che dati 3 numeri interi stabilisce se possono essere i valori dei lati di un\n",
    "# triangolo e se si di che tipo di triangolo\n",
    "\n",
    "def funz(a,b,c):\n",
    "    if(a+b > c and a+c > b and b+c > a):\n",
    "        if (a == b == c):\n",
    "            return(\"Triangolo equilatero\")\n",
    "        if (a == b and b != c or a == c and a != b or b == c and a != c):\n",
    "            return(\"Triangolo isoscele\")\n",
    "        if (a != b and a != c and b != c):\n",
    "            return(\"Triangolo scaleno\")\n",
    "    return(\"I numeri forniti non sono i valori dei lati di un triangolo\")\n",
    "\n",
    "print(funz(5,5,2))"
   ]
  },
  {
   "cell_type": "code",
   "execution_count": null,
   "id": "1c95f7cf",
   "metadata": {},
   "outputs": [
    {
     "name": "stdout",
     "output_type": "stream",
     "text": [
      "['nastja', 'luca']\n"
     ]
    }
   ],
   "source": [
    "# Definire una funzione che prende in input una lista A, indici i, j, e scambia il valore di A[i] con A[j].\n",
    "\n",
    "def funz(A, i, j):\n",
    "    temp = A[i]\n",
    "    A[i] = A[j]\n",
    "    A[j] = temp\n",
    "    return(A)\n"
   ]
  },
  {
   "cell_type": "code",
   "execution_count": null,
   "id": "8b881976",
   "metadata": {},
   "outputs": [
    {
     "name": "stdout",
     "output_type": "stream",
     "text": [
      "None\n",
      "1\n",
      "2\n",
      "6\n",
      "24\n",
      "120\n",
      "720\n",
      "5040\n",
      "40320\n",
      "362880\n",
      "0\n",
      "1\n",
      "2\n",
      "6\n",
      "24\n",
      "120\n",
      "720\n",
      "5040\n",
      "40320\n",
      "362880\n"
     ]
    }
   ],
   "source": [
    "# Definite la funzione fattoriale\n",
    "\n",
    "def fact(numero):\n",
    "    if(numero <= 0): return None\n",
    "    if(numero == 1 or numero == 0): return numero\n",
    "    return(numero*fact(numero-1))\n",
    "\n",
    "def factt(numero):\n",
    "    tot = numero\n",
    "    while numero > 1:\n",
    "        tot *= numero-1\n",
    "        numero -= 1\n",
    "    return tot\n"
   ]
  },
  {
   "cell_type": "code",
   "execution_count": 3,
   "id": "87f980f5",
   "metadata": {},
   "outputs": [
    {
     "name": "stdout",
     "output_type": "stream",
     "text": [
      "False\n",
      "False\n"
     ]
    }
   ],
   "source": [
    "# Scrivere una funzione che prende in input due liste e ritorna `True` se le due liste hanno almeno un\n",
    "# elemento in comune\n",
    "\n",
    "def funzz(lista1, lista2):\n",
    "    for elemento1 in lista1:\n",
    "        for elemento2 in lista2:\n",
    "            if(elemento1 == elemento2): return True\n",
    "    return False\n",
    "\n",
    "def funz(lista1, lista2):\n",
    "    for elemento1 in lista1:\n",
    "        if (elemento1 in lista2): return True\n",
    "    return False\n",
    "\n",
    "print(funzz([1,3,6,8,5,3,6,8], [\"nastja\", \"luca\", \"blaz\", 2]))\n",
    "print(funz([1,3,6,8,5,3,6,8], [\"nastja\", \"luca\", \"blaz\", 2]))\n"
   ]
  },
  {
   "cell_type": "code",
   "execution_count": 46,
   "id": "81f24256",
   "metadata": {},
   "outputs": [
    {
     "name": "stdout",
     "output_type": "stream",
     "text": [
      "['uno', 'zero', 'sette', 'nove', 'otto']\n"
     ]
    }
   ],
   "source": [
    "# Definire una funzione che prende in input una lista di numeri interi in [0, 9] e ritorna una lista di\n",
    "# stringhe, corrispondenti ai numeri scritti in Italiano, es. [1,0,7,9,8] ->[\"uno\",\"zero\",\"sette\",\"nove\",\"otto\"]\n",
    "\n",
    "def funz(lista):\n",
    "    diz = {0:\"zero\", 1:\"uno\", 2:\"due\", 3:\"tre\", 4:\"quattro\", 5:\"cinque\", 6:\"sei\", 7:\"sette\", 8:\"otto\", 9:\"nove\"}\n",
    "    a = []\n",
    "    for elemento in lista:\n",
    "        a.append(diz[elemento])\n",
    "    return a\n",
    "\n",
    "print(funz([1,0,7,9,8]))"
   ]
  }
 ],
 "metadata": {
  "kernelspec": {
   "display_name": "base",
   "language": "python",
   "name": "python3"
  },
  "language_info": {
   "codemirror_mode": {
    "name": "ipython",
    "version": 3
   },
   "file_extension": ".py",
   "mimetype": "text/x-python",
   "name": "python",
   "nbconvert_exporter": "python",
   "pygments_lexer": "ipython3",
   "version": "3.12.9"
  }
 },
 "nbformat": 4,
 "nbformat_minor": 5
}
