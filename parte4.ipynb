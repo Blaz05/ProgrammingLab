{
 "cells": [
  {
   "cell_type": "code",
   "execution_count": null,
   "id": "60cd3c96",
   "metadata": {},
   "outputs": [
    {
     "name": "stdout",
     "output_type": "stream",
     "text": [
      "[['01-01-2012', '266.0'], ['01-02-2012', '145.9'], ['01-03-2012', '183.1'], ['01-04-2012', '119.3'], ['01-05-2012', '180.3'], ['01-06-2012', '168.5'], ['01-07-2012', '231.8'], ['01-08-2012', '224.5'], ['01-09-2012', '192.8'], ['01-10-2012', '122.9'], ['01-11-2012', '336.5'], ['01-12-2012', '185.9'], ['01-01-2013', '194.3'], ['01-02-2013', '149.5'], ['01-03-2013', '210.1'], ['01-04-2013', '273.3'], ['01-05-2013', '191.4'], ['01-06-2013', '287.0'], ['01-07-2013', '226.0'], ['01-08-2013', '303.6'], ['01-09-2013', '289.9'], ['01-10-2013', '421.6'], ['01-11-2013', '264.5'], ['01-12-2013', '342.3'], ['01-01-2014', '339.7'], ['01-02-2014', '440.4'], ['01-03-2014', '315.9'], ['01-04-2014', '439.3'], ['01-05-2014', '401.3'], ['01-06-2014', '437.4'], ['01-07-2014', '575.5'], ['01-08-2014', '407.6'], ['01-09-2014', '682.0'], ['01-10-2014', '475.3'], ['01-11-2014', '581.3'], ['01-12-2014', '646.9']]\n"
     ]
    }
   ],
   "source": [
    "# Create un oggetto CSVFile che rappresenti un file CSV, e che:\n",
    "#   1) venga inizializzato sul nome del file csv, e\n",
    "#   2) abbia un attributo “name” che ne contenga il nome\n",
    "#   3) abbia un metodo“get_data()” che torni i dati dal file CSV come lista di liste, ad es: [ ['01-01-2012', '266.0'], ['01-02-2012', '145.9'], ... ]\n",
    "\n",
    "class CSVFile:\n",
    "    def __init__(self, nome):\n",
    "        self.nome = nome\n",
    "    def get_data(self):\n",
    "        with open(self.nome, 'r') as testo:\n",
    "            contenuto = testo.readlines()\n",
    "        lista = []\n",
    "        for i, linea in enumerate(contenuto):\n",
    "            if(i != 0):\n",
    "                valori = linea.strip().split(',')\n",
    "                lista.append(valori)\n",
    "        return lista\n",
    "\n",
    "dati = CSVFile('shampoo_sales.csv').get_data()\n",
    "print(dati)"
   ]
  },
  {
   "cell_type": "code",
   "execution_count": null,
   "id": "0e8344b4",
   "metadata": {},
   "outputs": [],
   "source": [
    "# Scrivete una classe denominata Veicolo che disponga di questi attributi dati:\n",
    "    # ● modello (per il modello del veicolo);\n",
    "    # ● marca (per la marca del veicolo);\n",
    "    # ● anno (per l'anno del veicolo).\n",
    "    # ● speed (per la velocità del veicolo)\n",
    "# E di questi metodi:\n",
    "    # ●__init__ che accetti come argomenti l’anno, il modello, e la marca. Il metodo dovrebbe inoltre \n",
    "    #  assegnare 0 all’attributo dati speed.\n",
    "    # ● __str__ che restituisce una stringa con i dettagli del veicolo (marca, modello, anno e velocità)\n",
    "    # ● accellerare che aggiunge 5 all’attributo dati speed ogni volta che viene chiamato.\n",
    "    # ● frenare che sottrae 5 dall’attributo dati speed ogni volta che viene chiamato.\n",
    "    # ● get_speed che restituisce la velocità corrente.\n",
    "\n",
    "class Veicolo:\n",
    "    def __init__(self, marca, modello, anno):\n",
    "        self.marca = marca\n",
    "        self.modello = modello\n",
    "        self.anno = anno\n",
    "        self.speed = 0\n",
    "    \n",
    "    def __str__(self):\n",
    "        return 'Marca: {}, modello: {}, anno: {}'.format(self.marca, self.modello, self.anno)\n",
    "    \n",
    "    def accellerare(self):\n",
    "        self.speed += 5\n",
    "    \n",
    "    def frenare(self):\n",
    "        self.speed -= 5\n",
    "        if self.speed < 0:\n",
    "            self.speed = 0\n",
    "    \n",
    "    def get_speed(self):\n",
    "        return self.speed\n",
    "\n",
    "# Crea una sottoclasse auto che ha in aggiunta l'attributo numero_porte e cambia il metodo _str__ di conseguenza\n",
    "# Crea una sottoclasse moto che ha in aggiunta l'attributo tipo (ad esempio, \"Sportiva\" o \"Touring\")\n",
    "# # e cambia il metodo _str__ di conseguenza\n",
    "\n",
    "class auto(Veicolo):\n",
    "    def __init__(self, marca, modello, anno, speed, numero_porte):\n",
    "        super().__init__(marca, modello, anno)\n",
    "        self.numero_porte = numero_porte\n",
    "    \n",
    "    def __str__(self):\n",
    "        return(super().__str__() + ' numero di porte: {}'.format(self.numero_porte))\n",
    "\n",
    "class moto(Veicolo):\n",
    "    def __init__(self, marca, modello, anno, tipo):\n",
    "        super().__init__(marca, modello, anno)\n",
    "        self.tipo = tipo\n",
    "    def __str__(self):\n",
    "        return super().__str__() + ' tipo: {}'.format(self.tipo)"
   ]
  }
 ],
 "metadata": {
  "kernelspec": {
   "display_name": "base",
   "language": "python",
   "name": "python3"
  },
  "language_info": {
   "codemirror_mode": {
    "name": "ipython",
    "version": 3
   },
   "file_extension": ".py",
   "mimetype": "text/x-python",
   "name": "python",
   "nbconvert_exporter": "python",
   "pygments_lexer": "ipython3",
   "version": "3.12.9"
  }
 },
 "nbformat": 4,
 "nbformat_minor": 5
}
